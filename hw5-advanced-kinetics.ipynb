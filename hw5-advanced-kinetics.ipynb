{
 "cells": [
  {
   "cell_type": "markdown",
   "metadata": {},
   "source": [
    "# Belousov-Zhabotinsky Reaction Kinetics\n",
    "\n",
    "The [Belousov-Zhabotinsky](https://en.wikipedia.org/wiki/Belousov%E2%80%93Zhabotinsky_reaction) reaction is a chemical oscillator driven by competing auto-catalytic processes. You can see a demonstration of the reaction [here](https://youtu.be/LL3kVtc-4vY?t=494). The overall reaction has the following form:\n",
    "\n",
    "$$ 3\\text{CH}_2(\\text{CO}_2\\text{H})_2 + 4 \\text{BrO}^−_3 → 4 \\text{Br}^− + 9 \\text{CO}_2 + 6 \\text{H}_2\\text{O} $$\n",
    "\n",
    "Although the exact mechanism for this reaction is very complex and not fully understood, several simple mechanism models have been proposed. In this assingment, you will run a reaction kinetics simulation with the \"Oregonator\" model described in the following paper:\n",
    "\n",
    "> Field, R., & Noyes. (1974). Oscillations in chemical systems. IV. Limit cycle behavior in a model of a real chemical reaction. The Journal of Chemical Physics, 60(5), 1877-1884.\n",
    "\n",
    "Here are some tips to help you:\n",
    "\n",
    "- Assume all reactions are irreversible\n",
    "- Assume the reaction kinetics are described by equations $(\\text{Ia-Ic})$ and use the rate constants in equations $(\\text{IIa-IIf})$\n",
    "- Use the `solve_ivp` function with the `method='Radau'` option (see [documentation](https://docs.scipy.org/doc/scipy/reference/generated/scipy.integrate.solve_ivp.html) for more information).\n",
    "- Try plotting the concentrations of all three species over time a timespan of 600 seconds\n",
    "- Assume constant $[\\text{A}] = [\\text{B}] = 0.06\\ \\text{M}$, and use the following initial conditions:\n",
    "\n",
    "$$\\begin{align*}\n",
    "[\\text{HBrO}_2]_0 = \\text{X}_0 &= 5\\times10^{-11}\\ \\text{M} \\\\\n",
    "[\\text{Br}^-]_0 = \\text{Y}_0 &= 3\\times10^{-7}\\ \\text{M} \\\\\n",
    "[\\text{Ce(IV)}]_0 = \\text{Z}_0 &= 2\\times10^{-8}\\ \\text{M}\n",
    "\\end{align*}$$\n"
   ]
  },
  {
   "cell_type": "markdown",
   "metadata": {},
   "source": [
    "After running the simulation and plotting the results you should see oscillatory behavior. In this simulation, the oscillation continues indefinitely; however, in practice the reaction eventually reaches equilibrium. Which assumption in our simulation causes the reaction to continue indefinitely, and how could you update the simulation to account for this?"
   ]
  },
  {
   "cell_type": "markdown",
   "metadata": {},
   "source": [
    "**ANSWER KEY**"
   ]
  },
  {
   "cell_type": "code",
   "execution_count": null,
   "metadata": {},
   "outputs": [],
   "source": [
    "import matplotlib.pyplot as plt\n",
    "from scipy.integrate import solve_ivp\n",
    "\n",
    "# rate constants\n",
    "k1 = ??? # M-1 s-1\n",
    "k2 = ??? # M-1 s-1\n",
    "k3 = ??? # M-1 s-1\n",
    "k4 = ??? # M-1 s-1\n",
    "k5 = ??? # s-1\n",
    "f = ???  # stoichiometric factor\n",
    "\n",
    "# constant concentrations\n",
    "A = B = ??? # constant [BrO3-]\n",
    "\n",
    "# initial molar concentrations\n",
    "X0 = ??? # initial [HBrO2]\n",
    "Y0 = ??? # initial [Br-]\n",
    "Z0 = ??? # initial [Ce(IV)]\n",
    "\n",
    "y0 = [X0, Y0, Z0] # pack initial conditions\n",
    "\n",
    "# assume the reactions are irreversible\n",
    "def dydt(t, y):\n",
    "    X, Y, Z = y[0], y[1], y[2] # unpack reactants\n",
    "    \n",
    "    dXdt = ??? # (Ia)\n",
    "    dYdt = ??? # (Ib)\n",
    "    dZdt = ??? # (Ic)\n",
    "    \n",
    "    return [dXdt, dYdt, dZdt]\n",
    "\n",
    "# time span\n",
    "tspan = ???\n",
    "\n",
    "# compute solution\n",
    "sol = ???\n",
    "X, Y, Z = sol.y[0], sol.y[1], sol.y[2]\n",
    "t = soln.t\n",
    "\n",
    "# plot results\n",
    "plt.figure(figsize=(10, 5))\n",
    "plt.plot(t, X, label='$[\\mathrm{HBrO}_2]$')\n",
    "plt.plot(t, Y, label='$[\\mathrm{Br}^-]$')\n",
    "plt.plot(t, Z, label='[Ce(IV)]')\n",
    "plt.xlabel('time (s)')\n",
    "plt.ylabel('concentration (M)')\n",
    "plt.title('Oregonator')\n",
    "plt.legend(loc='upper right')\n",
    "plt.gcf().savefig('output.png') # save plot to file\n",
    "plt.show()"
   ]
  },
  {
   "cell_type": "markdown",
   "metadata": {},
   "source": [
    "After running the simulation and plotting the results you should see oscillatory behavior. In this simulation, the oscillation continues indefinitely; however, in practice the reaction eventually reaches equilibrium. Which assumption in our simulation causes the reaction to continue indefinitely, and how could you update the simulation to account for this?"
   ]
  },
  {
   "cell_type": "markdown",
   "metadata": {},
   "source": [
    "**YOUR ANSWER HERE**\n",
    "\n"
   ]
  }
 ],
 "metadata": {
  "kernelspec": {
   "display_name": "Python 3",
   "language": "python",
   "name": "python3"
  },
  "language_info": {
   "codemirror_mode": {
    "name": "ipython",
    "version": 3
   },
   "file_extension": ".py",
   "mimetype": "text/x-python",
   "name": "python",
   "nbconvert_exporter": "python",
   "pygments_lexer": "ipython3",
   "version": "3.7.6"
  }
 },
 "nbformat": 4,
 "nbformat_minor": 4
}
