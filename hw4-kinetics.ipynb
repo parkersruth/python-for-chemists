{
 "cells": [
  {
   "cell_type": "markdown",
   "metadata": {},
   "source": [
    "# Numerical Integration and Reaction Kinetics\n",
    "\n",
    "In addition to processing experimental data from the real world, Python can also be used to generate simulations of physical systems that change over time. In this notebook, we will practice performing numerical integration to solve systems of differential equations that describe chemical systems."
   ]
  },
  {
   "cell_type": "markdown",
   "metadata": {},
   "source": [
    "To simulate a physical system, we need to describe how that system changes over time as a function of its current state. This description often takes the form of a system of ordinary differential equations (ODEs). Although solving ODEs analytically is sometimes difficult or impossible, their solutions can be approximated by numerically integrating them over time, given some initial conditions. Python provides a collection of powerful general-purpose numeral integration tools that can be used for solving an initial value problem (IVP) of this kind. We will be using the `solve_ivp` function for this purpose. The `solve_ivp` function takes three inputs:\n",
    "\n",
    "1. An arbitrary function describing the derivative of the variable(s)\n",
    "2. A time span on which to compute the solution to the IVP\n",
    "3. The initial conditions at the beginning of the time span\n",
    "\n",
    "The function returns a bundle of information to us. In particular it gives us the following:\n",
    "\n",
    "1. An array of times within the range specified in the input\n",
    "2. The value of the function at every time in the array\n",
    "\n",
    "Learn more about how `solve_ivp` works here: https://docs.scipy.org/doc/scipy/reference/generated/scipy.integrate.solve_ivp.html"
   ]
  },
  {
   "cell_type": "markdown",
   "metadata": {},
   "source": [
    "## Example 1: Radioactive Decay\n",
    "\n",
    "You have successfully synthesized a 10 mg sample of yttrium-87 and want to how much will be left after a month. Since $^{87}\\text{Y}$ undergoes beta decay to $^{87}\\text{Sr}$ with a half-life of about $t_{1/2} \\approx 3.4\\ \\text{days}$, we can describe the amount of $^{87}\\text{Y}$ over time with the following initial value problem.\n",
    "\n",
    "$$ \\frac{\\text{d}y}{\\text{d}t} = - \\frac{\\ln(2)}{t_{1/2}}y \\qquad \\qquad y(0) = y_0 $$\n",
    "\n",
    "Here $y$ is the mass of yttrium-87 that changes over time $t$, while and $y_0 = 10\\ \\text{mg}$ is the initial amount at $t=0$. Here's how we compute the solution in Python:"
   ]
  },
  {
   "cell_type": "code",
   "execution_count": null,
   "metadata": {},
   "outputs": [],
   "source": [
    "import numpy as np\n",
    "from scipy.integrate import solve_ivp\n",
    "import matplotlib.pyplot as plt\n",
    "\n",
    "# define constants\n",
    "t12 = 3.4  # half-life of 3.4 days\n",
    "y0 = [10] # starting with 10 mg (has to be in a list or array)\n",
    "\n",
    "# the derivitive of y as a function of t and y\n",
    "def yprime(t, y):\n",
    "    return - (np.log(2) / t12) * y\n",
    "\n",
    "# we want to see how the system changes over one month\n",
    "t_span = [0, 31]\n",
    "\n",
    "# compute the solution\n",
    "sol = solve_ivp(yprime, t_span, y0)\n",
    "\n",
    "# unpack the pieces we want\n",
    "t = sol.t    # an array of times\n",
    "y = sol.y[0] # the value of the function at each time\n",
    "\n",
    "# plot the results\n",
    "plt.figure(figsize=(10,3))\n",
    "plt.plot(t, y)\n",
    "plt.title(\"Mass of yttrium-87 over time\")\n",
    "plt.xlabel(\"time (days)\")\n",
    "plt.ylabel(\"mass (mg)\")\n",
    "plt.show()"
   ]
  },
  {
   "cell_type": "markdown",
   "metadata": {},
   "source": [
    "The solution makes sense because if we solve this IVP analytically by normal methods of solving differential equations, we obtain a decaying exponential function. Try modifying $t_{1/2}$ and $y_0$ to see how the output changes. Although an analytical solution is easy to obtain for this system, using Python is much easier for more complex IVPs.\n",
    "\n",
    "You may have noticed a couple of strange things in the example above. When specifying the initial value `y0 = [10]` it was required to contain it inside a list or array. Additionally, we extracted the solution with `sol.y[0]`. The reason for both is that `solve_ivp` is designed to work for IVPs with any number of variables. Next we will explore an example of a such a multi-variable IVP."
   ]
  },
  {
   "cell_type": "markdown",
   "metadata": {},
   "source": [
    "## Example 2: Predator-Prey Dynamics\n",
    "\n",
    "In the nearby area there are populations of both hawks and rabbits. When there are lots of rabbits, the hawks thrive on an abundance of food, decimating the rabbit population. But as their food source dwindles, the hawk population falls, leading to a resurgence of rabbits as they freely reproduce. We can use the [Lotka-Volterra Model](https://en.wikipedia.org/wiki/Lotka%E2%80%93Volterra_equations) to simulate this behavior. If $r$ represents the number of rabbits and $h$ represents the number of hawks, then the population dynamics are described by the following IVP.\n",
    "\n",
    "\\begin{align*}\n",
    "\\frac{\\text{d}r}{\\text{d}t} &= a r - b rh & r(0) &= r_0 \\\\\n",
    "\\frac{\\text{d}h}{\\text{d}t} &= -c h + d rh & h(0) &= h_0 \\\\\n",
    "\\end{align*}\n",
    "\n",
    "For this simulation, let $a=8$, $b=2$, $c=3$, and $d=1$. Assume we start with $r_0 = 50$ rabbits and $h_0 = 50$ hawks."
   ]
  },
  {
   "cell_type": "code",
   "execution_count": null,
   "metadata": {},
   "outputs": [],
   "source": [
    "from scipy.integrate import solve_ivp\n",
    "import matplotlib.pyplot as plt\n",
    "\n",
    "# define constants\n",
    "a = 8\n",
    "b = 2\n",
    "c = 3\n",
    "d = 1\n",
    "\n",
    "# array of initial conditions [r0, h0]\n",
    "y0 = [50, 50]\n",
    "\n",
    "# the derivatives of both r0 and h0 over time\n",
    "def yprime(t, y):\n",
    "    r = y[0] # unpack arguments\n",
    "    h = y[1]\n",
    "    rprime = a*r - b*r*h # compute derivatives\n",
    "    hprime = -c*h + d*r*h\n",
    "    return [rprime, hprime] # pack them up again\n",
    "\n",
    "# specify time span of solution\n",
    "t_span = [0, 20]\n",
    "\n",
    "# compute the solution\n",
    "sol = solve_ivp(yprime, t_span, y0)\n",
    "\n",
    "# unpack the pieces we want\n",
    "t = sol.t    # an array of times\n",
    "r = sol.y[0] # unpack both variables\n",
    "h = sol.y[1]\n",
    "\n",
    "# plot the results\n",
    "plt.figure(figsize=(10,3))\n",
    "plt.plot(t, r)\n",
    "plt.plot(t, h)\n",
    "plt.title(\"Lotka-Volterra Model\")\n",
    "plt.xlabel(\"time (years)\")\n",
    "plt.ylabel(\"population (individuals)\")\n",
    "plt.legend([\"rabbits\", \"hawks\"])\n",
    "plt.show()\n"
   ]
  },
  {
   "cell_type": "markdown",
   "metadata": {},
   "source": [
    "As expected, the rabbit and hawk populations oscillate over time."
   ]
  },
  {
   "cell_type": "markdown",
   "metadata": {},
   "source": [
    "**Python Question 1**\n",
    "\n",
    "You can now apply these concepts to simulate a chemical reaction with first-order kinetics. Consider the following reversible association/dissociation reaction. This could represent an acid-base or solubility process, for example.\n",
    "\n",
    "$$ \\text{A} + \\text{B} \\quad {}_{\\xleftarrow[k_2]{}}^{ \\xrightarrow{k_1}} \\quad \\text{AB} \\\\[0.5em] $$\n",
    "\n",
    "Assuming a first order kinetics mechanism, the system is described by the following IVP (make sure you understand how this was derived).\n",
    "\n",
    "$$ \\begin{align*}\n",
    "\\frac{\\text{d}[\\text{A}]}{\\text{d}t} &= - k_1 [\\text{A}][B] + k_2[\\text{AB}] & \\left [\\text{A}] \\right |_{t=0} &= [\\text{A}]_0 \\\\\n",
    "\\frac{\\text{d}[\\text{B}]}{\\text{d}t} &= - k_1 [\\text{A}][\\text{B}] + k_2[\\text{AB}] & \\left [\\text{B}] \\right |_{t=0} &= [\\text{B}]_0 \\\\\n",
    "\\frac{\\text{d}[\\text{AB}]}{\\text{d}t} &= k_1 [\\text{A}][\\text{B}] - k_2[\\text{AB}] & \\left [\\text{AB}] \\right |_{t=0} &= [\\text{AB}]_0\n",
    "\\end{align*} $$\n",
    "\n",
    "Assume the initial conditions $[\\text{A}]_0 = 0.1\\ \\text{M}$, $[\\text{B}]_0 = 0.2\\ \\text{M}$, and $[\\text{AB}]_0 = 0\\ \\text{M}$. Let the rate constants be $k_1 = 0.5 \\ \\text{M}^{-1}\\text{s}^{-1}$ and $k_2 = 0.01 \\ \\text{s}^{-1}$. Complete the code below to simulate the reaction over the course of 120 seconds."
   ]
  },
  {
   "cell_type": "code",
   "execution_count": null,
   "metadata": {},
   "outputs": [],
   "source": [
    "from scipy.integrate import solve_ivp\n",
    "import matplotlib.pyplot as plt\n",
    "\n",
    "# define constants\n",
    "k1 = ???\n",
    "k2 = ???\n",
    "\n",
    "# define initial conditions [A0, B0, AB0]\n",
    "y0 = [???, ???, ???]\n",
    "\n",
    "# the derivatives of all chemical species over time\n",
    "def yprime(t, y):\n",
    "    A, B, AB = y[0], y[1], y[2] # unpack arguments\n",
    "\n",
    "    Aprime = ??? # compute derivatives\n",
    "    Bprime = ???\n",
    "    ABprime = ???\n",
    "    \n",
    "    return [Aprime, Bprime, ABprime] # pack them up again\n",
    "\n",
    "# specify time span of solution\n",
    "t_span = [0, 20]\n",
    "\n",
    "# compute the solution\n",
    "sol = solve_ivp(yprime, t_span, y0)\n",
    "\n",
    "# unpack the pieces we want\n",
    "t = sol.t    # an array of times\n",
    "A = sol.y[0] # unpack both variables\n",
    "B = sol.y[1]\n",
    "C = sol.y[2]\n",
    "\n",
    "# plot the results\n",
    "plt.figure(figsize=(10,3))\n",
    "plt.plot(t, A)\n",
    "plt.plot(t, B)\n",
    "plt.plot(t, C)\n",
    "plt.title(\"First Order Kinetics\")\n",
    "plt.xlabel(\"time (s)\")\n",
    "plt.ylabel(\"concentration (M)\")\n",
    "plt.legend([\"[A]\", \"[B]\", \"[C]\"])\n",
    "plt.show()\n"
   ]
  }
 ],
 "metadata": {
  "kernelspec": {
   "display_name": "Python 3",
   "language": "python",
   "name": "python3"
  },
  "language_info": {
   "codemirror_mode": {
    "name": "ipython",
    "version": 3
   },
   "file_extension": ".py",
   "mimetype": "text/x-python",
   "name": "python",
   "nbconvert_exporter": "python",
   "pygments_lexer": "ipython3",
   "version": "3.7.6"
  }
 },
 "nbformat": 4,
 "nbformat_minor": 4
}
