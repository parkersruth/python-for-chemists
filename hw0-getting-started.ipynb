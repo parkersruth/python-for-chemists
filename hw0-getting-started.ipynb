{
 "cells": [
  {
   "cell_type": "markdown",
   "metadata": {
    "colab_type": "text",
    "id": "IRhsynds9FmK"
   },
   "source": [
    "# Introduction to Python for Chemists\n",
    "\n",
    "This is a crash course in the syntax of Python programming. This introduction is incomprehensive, and focuses on the minimum that you need to get started using Python for chemistry problems. Run each of the code sections to get a sense for the types of things you can do with Python. Try modifying some of the code to see what happens. Let's jump straight in! Here's your first line of Python code:"
   ]
  },
  {
   "cell_type": "code",
   "execution_count": null,
   "metadata": {
    "colab": {},
    "colab_type": "code",
    "id": "AgIRbnsBig_6"
   },
   "outputs": [],
   "source": [
    "print(\"Hello, World!\")"
   ]
  },
  {
   "cell_type": "markdown",
   "metadata": {
    "colab_type": "text",
    "id": "I5MgBqBCipN9"
   },
   "source": [
    "## Printing Strings\n",
    "\n",
    "To see the result of your code, it is useful to display information to the user. In addition, comments are helpful for explaining what your code does to anyone else who reads it."
   ]
  },
  {
   "cell_type": "code",
   "execution_count": null,
   "metadata": {
    "colab": {},
    "colab_type": "code",
    "id": "tZ8NMFVK9FmO"
   },
   "outputs": [],
   "source": [
    "# everything following a '#' symbol is a comment\n",
    "# comments are ignored by Python, so you can write anything in them\n",
    "# everything inside quotations marks is a string literal\n",
    "\n",
    "print(\"HI PYThON\") # hydrogen iodide and phospho-ytterbio-thorio-nitroxide\n",
    "print('Chemistry is AWESOME!') # use \"double\" or 'single' quotes around strings"
   ]
  },
  {
   "cell_type": "code",
   "execution_count": null,
   "metadata": {
    "colab": {},
    "colab_type": "code",
    "id": "ba1yn6Jh9Fma"
   },
   "outputs": [],
   "source": [
    "# you can print multiple things at once:\n",
    "print(\"Chemistry\", \"is\", \"awesome!\") # print() adds spaces between these words\n",
    "\n",
    "# or you can concatenate strings together\n",
    "print(\"H\" + \"2\" + \"O\") # no spaces when adding strings with the + operator"
   ]
  },
  {
   "cell_type": "markdown",
   "metadata": {
    "colab_type": "text",
    "id": "xMjlmjsIGXlf"
   },
   "source": [
    "**Python Question 1**"
   ]
  },
  {
   "cell_type": "code",
   "execution_count": null,
   "metadata": {
    "colab": {},
    "colab_type": "code",
    "id": "E0qzSXya9FmW"
   },
   "outputs": [],
   "source": [
    "# correct syntax is important in Python\n",
    "# can you see what's wrong with the lines below and fix them?\n",
    "print(\"use correct syntax\"\n",
    "print(do not forget the quotes)\n",
    "print('and make sure they match\")"
   ]
  },
  {
   "cell_type": "markdown",
   "metadata": {
    "colab_type": "text",
    "id": "Elm2TRaPTxL5"
   },
   "source": [
    "## Arithmetic\n",
    "\n",
    "The Python syntax supports basic arithmetic operators, so you can use it like a calculator."
   ]
  },
  {
   "cell_type": "code",
   "execution_count": null,
   "metadata": {
    "colab": {},
    "colab_type": "code",
    "id": "MHmds-ze9Fmd"
   },
   "outputs": [],
   "source": [
    "# careful with the order of operations - remember PEMDAS\n",
    "print(1 + 5 * 2)   # Python interprets this as 1 + (5 * 2)\n",
    "print((1 + 5) * 2) # parentheses disambiguate the operation order\n",
    "print(3.4 - 7.3)   # Python knows how to handle negative numbers\n",
    "print(4+5j + 2-3j) # use j to write complex numbers"
   ]
  },
  {
   "cell_type": "code",
   "execution_count": null,
   "metadata": {
    "colab": {},
    "colab_type": "code",
    "id": "1azFBZL09Fmg"
   },
   "outputs": [],
   "source": [
    "# there are two different division operators\n",
    "print(14 / 3)  # the / operator performs normal division\n",
    "print(14 // 3) # the // operator performs integer division"
   ]
  },
  {
   "cell_type": "code",
   "execution_count": null,
   "metadata": {
    "colab": {},
    "colab_type": "code",
    "id": "DGlLQbXVizY5"
   },
   "outputs": [],
   "source": [
    "print(14 % 3) # the % is a modulo operator\n",
    "\n",
    "print(3 ** 2) # use ** for exponentiation (not the ^ symbol)\n",
    "\n",
    "print(1e4)    # you can use scientific notation for large or small numbers\n",
    "print(1e-3)    "
   ]
  },
  {
   "cell_type": "code",
   "execution_count": null,
   "metadata": {
    "colab": {},
    "colab_type": "code",
    "id": "4keakRA4T5b9"
   },
   "outputs": [],
   "source": [
    "# trig functions are not builtin, so we import them from another library\n",
    "import math\n",
    "\n",
    "print(\"sin(1) =\", math.sin(1))\n",
    "print(\"cos(2) =\", math.cos(2)) \n",
    "print(\"arctan(3) =\", math.atan(3)) # arguments are in radians"
   ]
  },
  {
   "cell_type": "code",
   "execution_count": null,
   "metadata": {
    "colab": {},
    "colab_type": "code",
    "id": "n4BDnZmUpht3"
   },
   "outputs": [],
   "source": [
    "# here are two different ways you can compute a square root\n",
    "print(math.sqrt(2))\n",
    "print(2 ** (0.5) )"
   ]
  },
  {
   "cell_type": "markdown",
   "metadata": {
    "colab_type": "text",
    "id": "GdcI3o3zW0Cy"
   },
   "source": [
    "Learn more about the math module here:\n",
    "https://docs.python.org/3/library/math.html\n",
    "\n",
    "The math module is one of many standard libraries that come with Python:\n",
    "https://docs.python.org/3/library/index.html\n",
    "\n",
    "Other Python developers have made even more libraries that you can download:\n",
    "https://docs.anaconda.com/anaconda/packages/pkg-docs/"
   ]
  },
  {
   "cell_type": "markdown",
   "metadata": {
    "colab_type": "text",
    "id": "Nk3MxfUWXBPL"
   },
   "source": [
    "## Storing Data\n",
    "\n",
    "The simplest way to store data is with a single variable, which allows you to give a name to a value and then update it. You can store multiple values together in data structures.\n"
   ]
  },
  {
   "cell_type": "code",
   "execution_count": null,
   "metadata": {
    "colab": {},
    "colab_type": "code",
    "id": "Qzbmi6q39Fmj"
   },
   "outputs": [],
   "source": [
    "# you can store vaues in variables and update them later\n",
    "x = 1 + 2\n",
    "print(\"at first, x =\", x)\n",
    "x = 7 ** 2\n",
    "print(\"now x =\", x)\n",
    "x = x + 1\n",
    "print(\"after incrementation, x =\", x)\n",
    "x += 3 # this is equivalent to x = x + 3\n",
    "print(\"after adding 3, x =\", x)"
   ]
  },
  {
   "cell_type": "code",
   "execution_count": null,
   "metadata": {
    "colab": {},
    "colab_type": "code",
    "id": "axqqcfe19Fmn"
   },
   "outputs": [],
   "source": [
    "# you can also store multiple values together in a list\n",
    "reagents = ['water', 'buffer'] # use square brackets for a list\n",
    "print(reagents)\n",
    "reagents += ['base', 'acid'] # you can add lists together\n",
    "print(reagents)\n",
    "\n",
    "# try to fix this line of code that isn't doing what it's supposed to\n",
    "reagents += \"indicator\"\n",
    "print(reagents)\n",
    "\n",
    "# you can access the elements in a list using indices\n",
    "# note that Python starts counting at zero\n",
    "print(\"the first reagent is\", reagents[0])\n",
    "print(\"the second reagent is\", reagents[1])\n",
    "reagents[1] = \"flubber\"\n",
    "print(\"the second reagent is now\", reagents[1])"
   ]
  },
  {
   "cell_type": "code",
   "execution_count": null,
   "metadata": {
    "colab": {},
    "colab_type": "code",
    "id": "ZM4Yz7nSC-yy"
   },
   "outputs": [],
   "source": [
    "# use the len function to find the length of a list\n",
    "num_reagents = len(reagents)\n",
    "print(\"you need\", num_reagents, \"reagents\")\n",
    "\n",
    "# use the sort method to sort the elements of a list\n",
    "print('before sorting:', reagents)\n",
    "reagents.sort()\n",
    "print('after sorting:', reagents)"
   ]
  },
  {
   "cell_type": "code",
   "execution_count": null,
   "metadata": {
    "colab": {},
    "colab_type": "code",
    "id": "3tFJOskZ9Fmr"
   },
   "outputs": [],
   "source": [
    "# another way to store data is a dictionary, which maps keys and value\n",
    "# (note that the keys are unique, but the values may not be)\n",
    "\n",
    "mg_solute = {'NaCl':5, 'MgCl2':2, 'CaCl2':2} # use curly braces for dictionaries\n",
    "print(\"solute masses (mg):\", mg_solute)\n",
    "print(\"add\", mg_solute['MgCl2'], 'grams of MgCl2')\n",
    "mg_solute['MgCl2'] = 3\n",
    "print(\"actually, make that\", mg_solute['MgCl2'], \"grams\")"
   ]
  },
  {
   "cell_type": "markdown",
   "metadata": {
    "colab_type": "text",
    "id": "fkbx26Yrkfb6"
   },
   "source": [
    "Learn more about Python's builtin data structures here:\n",
    "https://docs.python.org/3/tutorial/datastructures.html"
   ]
  },
  {
   "cell_type": "markdown",
   "metadata": {
    "colab_type": "text",
    "id": "blq9tFJdhrFR"
   },
   "source": [
    "## User Input and Types\n",
    "\n",
    "To make your code interactive, you can accept input from the user. Interpreting their input may require casting to a specific type."
   ]
  },
  {
   "cell_type": "code",
   "execution_count": null,
   "metadata": {
    "colab": {},
    "colab_type": "code",
    "id": "H2dQVprK9Fmw"
   },
   "outputs": [],
   "source": [
    "# user input allows you to interact with your code\n",
    "name = input(\"What's your name? \")\n",
    "print(\"Nice to meet you, \" + name + \"!\")"
   ]
  },
  {
   "cell_type": "code",
   "execution_count": null,
   "metadata": {
    "colab": {},
    "colab_type": "code",
    "id": "9GhNOeS-9Fm2"
   },
   "outputs": [],
   "source": [
    "# be careful to convert to the right data type\n",
    "solvent = input(\"volume of solvent (mL): \")\n",
    "solute = input(\"volume of solute (mL): \")\n",
    "print(\"total volume =\", solvent + solute, \"mL???\" ) # THIS IS A BUG!\n",
    "\n",
    "# inputs are stored as strings; you can check the type with 'type'\n",
    "print(\"at first, solvent has type\", type(solvent))\n",
    "\n",
    "# we need to cast the variable as a float first\n",
    "solvent_vol = float(solvent)\n",
    "solute_vol = float(solute)\n",
    "print(\"now solvent has type\", type(solvent_vol))\n",
    "print(\"total volume =\", solvent_vol + solute_vol, 'mL')\n",
    "\n",
    "# not all strings can be cast as a float\n",
    "# try inputting an invalid volume and see what happens"
   ]
  },
  {
   "cell_type": "code",
   "execution_count": null,
   "metadata": {
    "colab": {},
    "colab_type": "code",
    "id": "JCIPrX_1lOqq"
   },
   "outputs": [],
   "source": [
    "# you need to convert a number to a string before concatenating it\n",
    "course = \"CHEM\"\n",
    "number = 155\n",
    "print(course + str(number)) # should print CHEM155\n",
    "# try just writing course + number and see what error occurs"
   ]
  },
  {
   "cell_type": "markdown",
   "metadata": {
    "colab_type": "text",
    "id": "j7zV7YUSjWvA"
   },
   "source": [
    "Learn more about Python's builtin data types here:\n",
    "https://docs.python.org/3/library/stdtypes.html"
   ]
  },
  {
   "cell_type": "markdown",
   "metadata": {
    "colab_type": "text",
    "id": "fsmCsvrzd_Vm"
   },
   "source": [
    "## Logical Expressions\n",
    "\n",
    "Python supports comparisons, operators, and conditional execution."
   ]
  },
  {
   "cell_type": "code",
   "execution_count": null,
   "metadata": {
    "colab": {},
    "colab_type": "code",
    "id": "hfl_HeBpd-xR"
   },
   "outputs": [],
   "source": [
    "# we can check whether numbers are smaller, bigger, or equal to each other\n",
    "x = 155\n",
    "y = 123\n",
    "z = 155\n",
    "print(\"Is x greater than y?\", x > y)\n",
    "print(\"Is z less than or equal to y?\", z <= y)\n",
    "print(\"Is x equal to z?\", x == z)\n",
    "\n",
    "# be careful! '=' is an assignment operator, but '==' checks for equality\n",
    "# see if you can fix the following line of code\n",
    "print(\"Is x equal to y?\", x = y)\n",
    "\n",
    "# you can also combine boolean values with logical operators\n",
    "print(x >= y and y < z)\n",
    "print(y > z or x <= y)\n",
    "print(x > y and not z < x)"
   ]
  },
  {
   "cell_type": "code",
   "execution_count": null,
   "metadata": {
    "colab": {},
    "colab_type": "code",
    "id": "kRdtq3wxgF93"
   },
   "outputs": [],
   "source": [
    "# we can also create boolean values manually\n",
    "print(\"True and False ->\", True and False)\n",
    "print(\"True or False ->\", True or False)\n",
    "print(\"False or 1 < 2 ->\", False or 1 < 2) # 1 < 2 evaluates to True"
   ]
  },
  {
   "cell_type": "code",
   "execution_count": null,
   "metadata": {
    "colab": {},
    "colab_type": "code",
    "id": "XCWBxtUt9Fm5"
   },
   "outputs": [],
   "source": [
    "# you can use conditionals to control what code is executed\n",
    "volume = float(input(\"How many mL of solution are you making? \"))\n",
    "\n",
    "if volume == 100:\n",
    "    print(\"Exactly 100.0 mL!\")\n",
    "elif volume > 100:\n",
    "    print(volume, \"mL is too much! You'll need a bigger beaker.\")\n",
    "elif volume < 100 and volume > 0:\n",
    "    print(volume, \"mL will fit in the beaker!\")\n",
    "else:\n",
    "    print(volume, \"mL? A negative volume doesn't make sense!\")"
   ]
  },
  {
   "cell_type": "markdown",
   "metadata": {
    "colab_type": "text",
    "id": "vgbT88ZiiRR3"
   },
   "source": [
    "## Loops"
   ]
  },
  {
   "cell_type": "code",
   "execution_count": null,
   "metadata": {
    "colab": {},
    "colab_type": "code",
    "id": "y8WF0zkX9Fmu"
   },
   "outputs": [],
   "source": [
    "# if you want to do something many times you can use a loop\n",
    "supplies = ['500mL beaker', 'stirring rod', 'hot plate', 'mass scale']\n",
    "print(\"supplies:\")\n",
    "for s in supplies:\n",
    "    print(\"  -\", s)"
   ]
  },
  {
   "cell_type": "code",
   "execution_count": null,
   "metadata": {
    "colab": {},
    "colab_type": "code",
    "id": "7b7mjlSRF9x7"
   },
   "outputs": [],
   "source": [
    "# it is often helpful to loop over consecutive numbers\n",
    "for n in range(5):\n",
    "  print(\"Step\", n)\n",
    "# remember that Python starts counting at 0!"
   ]
  },
  {
   "cell_type": "code",
   "execution_count": null,
   "metadata": {
    "colab": {},
    "colab_type": "code",
    "id": "zNxof6b7HbEr"
   },
   "outputs": [],
   "source": [
    "# we can make an enumerated list of supplies this way\n",
    "print(\"supplies:\")\n",
    "for i in range(len(supplies)):\n",
    "  print(\"  \", str(i+1) + \".\", supplies[i])"
   ]
  },
  {
   "cell_type": "markdown",
   "metadata": {
    "colab_type": "text",
    "id": "jLUowAM9nP8q"
   },
   "source": [
    "## Functions\n",
    "\n",
    "Defining functions is a powerful way to organize your code. Functions have inputs (parameters) and outputs (returns), and they can be manipulated like any other object in Python."
   ]
  },
  {
   "cell_type": "code",
   "execution_count": null,
   "metadata": {
    "colab": {},
    "colab_type": "code",
    "id": "e7BaYQ0c9Fm8"
   },
   "outputs": [],
   "source": [
    "# so far we have used builtin functions like print(), len(), and range()\n",
    "# Python also lets you define your own functions like this\n",
    "\n",
    "def calc_molar_mass(formula): # the parentheses surround the function input(s)\n",
    "  atomic_weights = {'H':1, 'C':12, 'N':14, 'O':16}\n",
    "  molar_mass = 0\n",
    "  for atom in formula:\n",
    "    molar_mass += atomic_weights[atom]\n",
    "  return molar_mass   # the return value is the ouput of the function\n",
    "\n",
    "mm_water = calc_molar_mass(\"HHO\")\n",
    "print(\"molar mass of water:\", mm_water)\n",
    "print(\"molar mass of carbon dioxide:\", calc_molar_mass(\"COO\"))\n",
    "\n",
    "# for an extra challenge, rewrite this to handle formulae with numbers like CO2"
   ]
  },
  {
   "cell_type": "code",
   "execution_count": null,
   "metadata": {
    "colab": {},
    "colab_type": "code",
    "id": "FTG4dlXgY6na"
   },
   "outputs": [],
   "source": [
    "# functions can take multiple parameters and they can call other functions\n",
    "\n",
    "def calc_moles(formula, mass):\n",
    "  molar_mass = calc_molar_mass(formula)\n",
    "  moles = mass / molar_mass\n",
    "  return moles\n",
    "  \n",
    "print(\"9g of water is\", calc_moles(\"HHO\", 9), \"moles\")"
   ]
  },
  {
   "cell_type": "code",
   "execution_count": null,
   "metadata": {
    "colab": {},
    "colab_type": "code",
    "id": "lSTNMpA_L9D6"
   },
   "outputs": [],
   "source": [
    "# functions can also return multiple parameters\n",
    "\n",
    "def how_much_water(mass):\n",
    "    moles = calc_moles(\"HHO\", mass)\n",
    "    density = 0.997 # gram per mL\n",
    "    volume = mass / density\n",
    "    return moles, volume\n",
    "\n",
    "moles_water, volume_water = how_much_water(3.5)\n",
    "print(\"3.5 g of water is\", moles_water, \"moles or\", volume_water, \"mL\")"
   ]
  },
  {
   "cell_type": "code",
   "execution_count": null,
   "metadata": {
    "colab": {},
    "colab_type": "code",
    "id": "rSgzK44xcxOr"
   },
   "outputs": [],
   "source": [
    "# the order of a function's inputs matters, unless we specify them by name\n",
    "\n",
    "print(\"9g of acetic acid is\", calc_moles(\"CHHHCOOH\", 9), \"moles\")\n",
    "print(\"9g of acetic acid is\", calc_moles(mass=9, formula=\"CHHHCOOH\"), \"moles\")\n",
    "# what goes wrong if we run calc_moles(9, \"CHHHCOOH\") instead?"
   ]
  },
  {
   "cell_type": "code",
   "execution_count": null,
   "metadata": {
    "colab": {},
    "colab_type": "code",
    "id": "oDwuLagLaRHs"
   },
   "outputs": [],
   "source": [
    "# you can assign a function to a new name just like any other variable\n",
    "first_variable = 5\n",
    "new_variable = first_variable\n",
    "print(\"new_variable =\", new_variable)\n",
    "\n",
    "new_func_name = calc_molar_mass\n",
    "print(\"molar mass of hydrogen cyanide:\", new_func_name(\"HCN\"))"
   ]
  },
  {
   "cell_type": "code",
   "execution_count": null,
   "metadata": {
    "colab": {},
    "colab_type": "code",
    "id": "-ulYpmIw9Fm-"
   },
   "outputs": [],
   "source": [
    "# functions can be passed as arguments to functions\n",
    "import time # used to measure the current time\n",
    "\n",
    "# this computes how long it takes to execute any given function\n",
    "def time_it(func):\n",
    "    t1 = time.time()\n",
    "    func() # execute the given function\n",
    "    t2 = time.time()\n",
    "    return t2 - t1\n",
    "\n",
    "def shortloop():\n",
    "    x = 0\n",
    "    for i in range(100000):\n",
    "        x += 1\n",
    "    return x\n",
    "\n",
    "def longloop():\n",
    "    x = 0\n",
    "    for i in range(10000000):\n",
    "        x += 1\n",
    "    return x\n",
    "        \n",
    "print(\"executing shortloop took\", time_it(shortloop), \"seconds\")\n",
    "print(\"executing longloop took\", time_it(longloop), \"seconds\")"
   ]
  },
  {
   "cell_type": "code",
   "execution_count": null,
   "metadata": {
    "colab": {},
    "colab_type": "code",
    "id": "wjxl8rRqa4pO"
   },
   "outputs": [],
   "source": [
    "# the builtin sort method allows us to sort in an arbitrary order\n",
    "# we can use this to sort chemicals by their molar mass\n",
    "\n",
    "chemicals = ['COO', 'HHO', 'HCN', 'CHHHCOOH']\n",
    "print(\"initial formulae list:\", chemicals)\n",
    "chemicals.sort()\n",
    "print(\"after alphabetic sort:\", chemicals)\n",
    "chemicals.sort(key=calc_molar_mass)\n",
    "print(\"after molar mass sort:\", chemicals)\n",
    "chemicals.sort(key=calc_molar_mass, reverse=True)\n",
    "print(\"molar mass in reverse:\", chemicals)"
   ]
  },
  {
   "cell_type": "markdown",
   "metadata": {
    "colab_type": "text",
    "id": "hw8ddskA9FnB"
   },
   "source": [
    "## Markdown\n",
    "\n",
    "Jupyter notebooks allow you to embed text between blocks of Python code. This text is formatted using a syntax called Markdown. Double click on a Markdown text box to edit it."
   ]
  },
  {
   "cell_type": "markdown",
   "metadata": {
    "colab_type": "text",
    "id": "cgOJigC_rPyb"
   },
   "source": [
    "You can use Markdown to write in *italicized*, **bold**, and `fixed-width` fonts, as well as\n",
    "\n",
    "- itemized\n",
    "- lists\n",
    "- of\n",
    "- bullets\n",
    "\n",
    "and \n",
    "\n",
    "1. enumerated\n",
    "2. lists\n",
    "3. of\n",
    "4. numbers."
   ]
  },
  {
   "cell_type": "markdown",
   "metadata": {
    "colab_type": "text",
    "id": "e60LMMyurVxC"
   },
   "source": [
    "You can also embed LaTeX typesetting either inline like $PV = nRT$ or centered like this:\n",
    "\n",
    "$$E = E^0 - \\frac{RT}{zF}\\ln(Q)$$\n",
    "\n",
    "Here's an example of a chemical equation in LaTeX:\n",
    "\n",
    "$$ \\text{H}_2\\text{SO}_4 + \\text{H}_2\\text{O} \\rightarrow \\text{H}\\text{SO}_4^- + \\text{H}_3\\text{O}^+ $$"
   ]
  },
  {
   "cell_type": "markdown",
   "metadata": {
    "colab_type": "text",
    "id": "t8vDnUKIvZEm"
   },
   "source": [
    "Learn more about basic Markdown syntax here:\n",
    "https://www.markdownguide.org/basic-syntax/"
   ]
  }
 ],
 "metadata": {
  "colab": {
   "collapsed_sections": [],
   "name": "hw0-getting-started.ipynb",
   "provenance": []
  },
  "kernelspec": {
   "display_name": "Python 3",
   "language": "python",
   "name": "python3"
  },
  "language_info": {
   "codemirror_mode": {
    "name": "ipython",
    "version": 3
   },
   "file_extension": ".py",
   "mimetype": "text/x-python",
   "name": "python",
   "nbconvert_exporter": "python",
   "pygments_lexer": "ipython3",
   "version": "3.7.6"
  }
 },
 "nbformat": 4,
 "nbformat_minor": 4
}
