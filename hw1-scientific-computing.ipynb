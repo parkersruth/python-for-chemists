{
 "cells": [
  {
   "cell_type": "markdown",
   "metadata": {
    "colab_type": "text",
    "id": "rd7qvTvcu9MG"
   },
   "source": [
    "# Scientific Computing with Python\n",
    "\n",
    "This worksheet provides an introduction to scientific computing using the `numpy`, `scipy`, and `matplotlib` libraries. These libraries turn Python into a powerful tool for solving problems in statistics, linear algebra, calculus, signal processing, optimization, and more. This worksheet will just scratch the surface with a few examples.\n",
    "\n",
    "It is normal and encouraged to consult library documentation and online help to look up how to use these tools. Even experienced programmers frequently reference online resources while writing code. Just be careful if you ever copy and paste lines of code from anywhere that you (1) understand how they work, and (2) properly credit their source.\n",
    "\n",
    "Run all of the code sections to get a feeling for the kinds of things these libraries can do and how they interact with each other."
   ]
  },
  {
   "cell_type": "markdown",
   "metadata": {
    "colab_type": "text",
    "id": "vL9ultzAwOqm"
   },
   "source": [
    "## NumPy\n",
    "\n",
    "Let's start with the NumPy library, which provides a wide variety of mathematical constructs. NumPy arrays form the basis for Python's entire scientific computing ecosystem. A NumPy array is like a list with superpowers. An ordinary Python list is like Bruce Wayne, and a NumPy array is like Batman!\n",
    "\n",
    "NumPy arrays are fast because they support vectorized operations, meaning that you can operate on all the elements in the array at once instead of having to loop over the data structure to modify each one.\n",
    "\n",
    "The full NumPy reference is here: https://numpy.org/devdocs/index.html"
   ]
  },
  {
   "cell_type": "code",
   "execution_count": null,
   "metadata": {
    "colab": {
     "base_uri": "https://localhost:8080/",
     "height": 153
    },
    "colab_type": "code",
    "executionInfo": {
     "elapsed": 338,
     "status": "ok",
     "timestamp": 1578034487742,
     "user": {
      "displayName": "Parker Ruth",
      "photoUrl": "",
      "userId": "17141790875063962456"
     },
     "user_tz": 480
    },
    "id": "szaPxyW8wJkZ",
    "outputId": "2c011e75-bc43-474e-d31b-a19b49934429"
   },
   "outputs": [],
   "source": [
    "import numpy as np\n",
    "# this allows us to use the abbreviation np for the numpy library\n",
    "# we will use it so frequently, it is convenient to make it short\n",
    "\n",
    "# some convenient constants:\n",
    "print(\"pi       =\", np.pi)\n",
    "print(\"e        =\", np.e)\n",
    "\n",
    "# some convenient math functions:\n",
    "print(\"sin(1)   =\", np.sin(1))   # sine (argument in radians)\n",
    "print(\"exp(2)   =\", np.exp(2))   # exponentiation\n",
    "print(\"log(3)   =\", np.log(3))   # natural log\n",
    "print(\"log2(4)  =\", np.log2(4))  # base 2 log\n",
    "print(\"log10(5) =\", np.log10(5)) # base 10 log\n",
    "print(\"pi is roughly\", np.around(np.pi, 4)) # rounding"
   ]
  },
  {
   "cell_type": "markdown",
   "metadata": {
    "colab_type": "text",
    "id": "CZQJJPwyzIK6"
   },
   "source": [
    "See the full list of NumPy math functions here:\n",
    "https://numpy.org/devdocs/reference/routines.math.html\n",
    "\n"
   ]
  },
  {
   "cell_type": "code",
   "execution_count": null,
   "metadata": {
    "colab": {
     "base_uri": "https://localhost:8080/",
     "height": 102
    },
    "colab_type": "code",
    "executionInfo": {
     "elapsed": 811,
     "status": "ok",
     "timestamp": 1578034488223,
     "user": {
      "displayName": "Parker Ruth",
      "photoUrl": "",
      "userId": "17141790875063962456"
     },
     "user_tz": 480
    },
    "id": "NKeYa-iS2M1d",
    "outputId": "2055a8b4-c512-45fb-c86c-78108d94aa5c"
   },
   "outputs": [],
   "source": [
    "# some ordinary Python lists\n",
    "x_list = [0, 1, 2, 3, 4, 5, 6]\n",
    "y_list = [1.03, 2.18, 3.15, 4.09, 4.52, 5.12, 6.9]\n",
    "\n",
    "# converted to NumPy arrays\n",
    "x_data = np.array(x_list)\n",
    "y_data = np.array(y_list)\n",
    "\n",
    "# we can increment every number in the array with a single line\n",
    "print(\"original data:  \", y_data)\n",
    "y_data += 1 # this will fail for a normal list\n",
    "print(\"after increment:\", y_data)\n",
    "\n",
    "# other math operations can be combined and performed on all elements\n",
    "z_data = np.cos(x_data * 1.2 - 0.7)\n",
    "print(z_data)\n",
    "\n",
    "# we can also do elementwise arithemetic operations between two arrays\n",
    "print(x_data + y_data)"
   ]
  },
  {
   "cell_type": "code",
   "execution_count": null,
   "metadata": {
    "colab": {
     "base_uri": "https://localhost:8080/",
     "height": 85
    },
    "colab_type": "code",
    "executionInfo": {
     "elapsed": 808,
     "status": "ok",
     "timestamp": 1578034488224,
     "user": {
      "displayName": "Parker Ruth",
      "photoUrl": "",
      "userId": "17141790875063962456"
     },
     "user_tz": 480
    },
    "id": "VPd6IYGZHCUp",
    "outputId": "f0f94f7d-0311-4a61-f3ed-809ebb53716c"
   },
   "outputs": [],
   "source": [
    "# as with lists, array elements can be indexed with numbers\n",
    "print(\"the third y value is\", y_data[2]) # remember counting starts at 0\n",
    "\n",
    "# you can use slicing to capture multiple elements\n",
    "print(\"the second and third elements are\", y_data[1:3])\n",
    "print(\"the first four elements are\", y_data[:4])\n",
    "print(\"the last two elements are\", y_data[-2:])"
   ]
  },
  {
   "cell_type": "code",
   "execution_count": null,
   "metadata": {
    "colab": {
     "base_uri": "https://localhost:8080/",
     "height": 153
    },
    "colab_type": "code",
    "executionInfo": {
     "elapsed": 805,
     "status": "ok",
     "timestamp": 1578034488224,
     "user": {
      "displayName": "Parker Ruth",
      "photoUrl": "",
      "userId": "17141790875063962456"
     },
     "user_tz": 480
    },
    "id": "GDSI9K-vG-CI",
    "outputId": "a2725bcf-23b0-4988-b31f-a331d3e4fb01"
   },
   "outputs": [],
   "source": [
    "# arrays can be multidimensional (stored as nested arrays of arrays)\n",
    "numbers = np.array([ [1,2,3], [4,5,6] ])\n",
    "print(numbers)\n",
    "\n",
    "# the first element is an array containing the first row\n",
    "print(\"first row:\", numbers[0])\n",
    "\n",
    "# to extract a single number, separate the indices by commas\n",
    "print(\"second row, first column:\", numbers[1,0])\n",
    "\n",
    "# use slicing to extract all elements in a certain dimension\n",
    "print(\"all rows, second column:\", numbers[:,1])\n",
    "\n",
    "# you can set the value of an entire slice at once\n",
    "numbers[-1,:] = 0\n",
    "print(\"last row is now all zeros:\")\n",
    "print(numbers)"
   ]
  },
  {
   "cell_type": "markdown",
   "metadata": {
    "colab_type": "text",
    "id": "e_3LIgjuIkke"
   },
   "source": [
    "Learn more about indexing numpy arrays here:\n",
    "https://numpy.org/devdocs/reference/arrays.indexing.html\n"
   ]
  },
  {
   "cell_type": "code",
   "execution_count": null,
   "metadata": {
    "colab": {
     "base_uri": "https://localhost:8080/",
     "height": 51
    },
    "colab_type": "code",
    "executionInfo": {
     "elapsed": 803,
     "status": "ok",
     "timestamp": 1578034488225,
     "user": {
      "displayName": "Parker Ruth",
      "photoUrl": "",
      "userId": "17141790875063962456"
     },
     "user_tz": 480
    },
    "id": "Czpy0Eb-Jtfc",
    "outputId": "744b8b0c-64c0-401d-ecda-43f5027ad6df"
   },
   "outputs": [],
   "source": [
    "# you can easily check the size and shape of an array\n",
    "print(\"size =\", numbers.size) # total number of elements\n",
    "print(\"shape =\", numbers.shape) # dimensions of array\n",
    "# the size attribute is preferred over using the builtin len() function"
   ]
  },
  {
   "cell_type": "code",
   "execution_count": null,
   "metadata": {
    "colab": {
     "base_uri": "https://localhost:8080/",
     "height": 102
    },
    "colab_type": "code",
    "executionInfo": {
     "elapsed": 801,
     "status": "ok",
     "timestamp": 1578034488226,
     "user": {
      "displayName": "Parker Ruth",
      "photoUrl": "",
      "userId": "17141790875063962456"
     },
     "user_tz": 480
    },
    "id": "UOP9TzjyNDOO",
    "outputId": "51141b32-2cab-4be9-f956-8ff1cbaae091"
   },
   "outputs": [],
   "source": [
    "# you can generate numpy arrays using some helpful constructors\n",
    "\n",
    "a = np.zeros(10)  # ten ones\n",
    "print(a)\n",
    "a = np.ones(10)   # ten zeros\n",
    "print(a)\n",
    "a = np.arange(10) # like builtin range()\n",
    "print(a)\n",
    "a = np.arange(5, 12, 2) # start at 5 and count to 12 in steps of 2\n",
    "print(a)\n",
    "a = np.linspace(0, 1, 5) # 5 numbers evenly spaced between 0 and 1 (inclusive)\n",
    "print(a)"
   ]
  },
  {
   "cell_type": "markdown",
   "metadata": {
    "colab_type": "text",
    "id": "RRfkzFQrOFHx"
   },
   "source": [
    "Full list of array creation routines:\n",
    "https://numpy.org/devdocs/reference/routines.array-creation.html"
   ]
  },
  {
   "cell_type": "code",
   "execution_count": null,
   "metadata": {
    "colab": {
     "base_uri": "https://localhost:8080/",
     "height": 68
    },
    "colab_type": "code",
    "executionInfo": {
     "elapsed": 798,
     "status": "ok",
     "timestamp": 1578034488226,
     "user": {
      "displayName": "Parker Ruth",
      "photoUrl": "",
      "userId": "17141790875063962456"
     },
     "user_tz": 480
    },
    "id": "ofdP5ZzyEwOk",
    "outputId": "d6ae4753-8aa7-477e-eba5-a5c5800c5a42"
   },
   "outputs": [],
   "source": [
    "# numpy provides a variety of random distributions for simulations\n",
    "# the output will be different every time you run this code\n",
    "\n",
    "a = np.random.uniform(2, 4, 5) # 5 random numbers between 3 and 5\n",
    "print(a)\n",
    "a = np.random.normal(-2, 3, 5) # mean -2 and standard deviation 3\n",
    "print(a)\n",
    "a = np.random.poisson(3, 5) # 5 numbers from poisson process with lambda = 3\n",
    "print(a)"
   ]
  },
  {
   "cell_type": "markdown",
   "metadata": {
    "colab_type": "text",
    "id": "ny3p0AMrN9eJ"
   },
   "source": [
    "Full list of random distributions:\n",
    "https://numpy.org/devdocs/reference/random/generator.html#distributions"
   ]
  },
  {
   "cell_type": "code",
   "execution_count": null,
   "metadata": {
    "colab": {
     "base_uri": "https://localhost:8080/",
     "height": 119
    },
    "colab_type": "code",
    "executionInfo": {
     "elapsed": 796,
     "status": "ok",
     "timestamp": 1578034488227,
     "user": {
      "displayName": "Parker Ruth",
      "photoUrl": "",
      "userId": "17141790875063962456"
     },
     "user_tz": 480
    },
    "id": "0G3HiRT_Ivjs",
    "outputId": "78f5198d-d97d-4d46-ea54-bf14ef7b4cc4"
   },
   "outputs": [],
   "source": [
    "# it's also easy to generate multidimensional arrays\n",
    "\n",
    "a = np.zeros([3,4]) # 3 by 4 array of zeros\n",
    "print(a)\n",
    "\n",
    "a = np.random.normal(0, 1, (3,2)) # 3 by 2 array drawn from standard normal\n",
    "print(a)"
   ]
  },
  {
   "cell_type": "markdown",
   "metadata": {
    "colab_type": "text",
    "id": "jOgN8LnnACRy"
   },
   "source": [
    "## Matplotlib\n",
    "\n",
    "The Matplotlib library is used for plotting and visualizing data. It integrates closely with NumPy and SciPy.\n",
    "\n",
    "The full Matplotlib reference is here:\n",
    "https://matplotlib.org/contents.html"
   ]
  },
  {
   "cell_type": "code",
   "execution_count": null,
   "metadata": {
    "colab": {
     "base_uri": "https://localhost:8080/",
     "height": 265
    },
    "colab_type": "code",
    "executionInfo": {
     "elapsed": 1006,
     "status": "ok",
     "timestamp": 1578034488440,
     "user": {
      "displayName": "Parker Ruth",
      "photoUrl": "",
      "userId": "17141790875063962456"
     },
     "user_tz": 480
    },
    "id": "mb3NIwt0B3Dd",
    "outputId": "9dabfc28-2afc-4e1e-bfe8-59b413fcf797"
   },
   "outputs": [],
   "source": [
    "import matplotlib.pyplot as plt\n",
    "\n",
    "plt.plot(x_data, y_data) # display data as a line plot\n",
    "plt.show() # show the plot to the user\n",
    "\n",
    "# the points correspond to the pairs of x and y data from the two arrays\n",
    "# note that the sizes of the x and y arrays must match"
   ]
  },
  {
   "cell_type": "code",
   "execution_count": null,
   "metadata": {
    "colab": {
     "base_uri": "https://localhost:8080/",
     "height": 295
    },
    "colab_type": "code",
    "executionInfo": {
     "elapsed": 1240,
     "status": "ok",
     "timestamp": 1578034488677,
     "user": {
      "displayName": "Parker Ruth",
      "photoUrl": "",
      "userId": "17141790875063962456"
     },
     "user_tz": 480
    },
    "id": "to_TWMbtOg-W",
    "outputId": "9b8e6735-2572-4c23-df77-92be60fe1de9"
   },
   "outputs": [],
   "source": [
    "# you can plot multiple curves with a title and axis labels\n",
    "\n",
    "x = np.linspace(-5, 5, 100)\n",
    "y1 = np.sin(x)\n",
    "y2 = np.cos(x)\n",
    "y3 = np.arctan(x)\n",
    "\n",
    "plt.plot(x, y1)\n",
    "plt.plot(x, y2)\n",
    "plt.plot(x, y3)\n",
    "\n",
    "plt.title(\"this is the title\")\n",
    "plt.xlabel(\"this is the x label\")\n",
    "plt.ylabel(\"this is the y label\")\n",
    "plt.show()"
   ]
  },
  {
   "cell_type": "code",
   "execution_count": null,
   "metadata": {
    "colab": {
     "base_uri": "https://localhost:8080/",
     "height": 214
    },
    "colab_type": "code",
    "executionInfo": {
     "elapsed": 1502,
     "status": "ok",
     "timestamp": 1578034488942,
     "user": {
      "displayName": "Parker Ruth",
      "photoUrl": "",
      "userId": "17141790875063962456"
     },
     "user_tz": 480
    },
    "id": "IgDvGu8xPytJ",
    "outputId": "5e31b628-333e-450f-f759-f4f8212fb859"
   },
   "outputs": [],
   "source": [
    "# can you find the parts of the code that do each of the following?\n",
    "# - make the figure wide and short\n",
    "# - label each of the functions\n",
    "# - display a legend in the upper right corner\n",
    "# - overlay a grid on the graph\n",
    "\n",
    "plt.figure(figsize=[12,3])\n",
    "plt.plot(x, y1, label='sin(x)')\n",
    "plt.plot(x, y2, label='cos(x)')\n",
    "plt.plot(x, y3, label='atan(x)')\n",
    "plt.legend(loc='upper right')\n",
    "plt.grid()\n",
    "plt.show()"
   ]
  },
  {
   "cell_type": "markdown",
   "metadata": {
    "colab_type": "text",
    "id": "gSxX8M56QrNN"
   },
   "source": [
    "Learn about all the ways you can customize your plots here:\n",
    "https://matplotlib.org/api/_as_gen/matplotlib.pyplot.plot.html"
   ]
  },
  {
   "cell_type": "code",
   "execution_count": null,
   "metadata": {
    "colab": {
     "base_uri": "https://localhost:8080/",
     "height": 214
    },
    "colab_type": "code",
    "executionInfo": {
     "elapsed": 1750,
     "status": "ok",
     "timestamp": 1578034489193,
     "user": {
      "displayName": "Parker Ruth",
      "photoUrl": "",
      "userId": "17141790875063962456"
     },
     "user_tz": 480
    },
    "id": "vDw4B9Y1LV-L",
    "outputId": "5bf2529e-9d21-40d8-e397-ea58c9e922ff"
   },
   "outputs": [],
   "source": [
    "# an alternative to plotting functions on the same graph is to use subplots\n",
    "\n",
    "# size in inches of the whole figure (width, height)\n",
    "plt.figure(figsize=[12,3])\n",
    "\n",
    "# this subplot command divides the figure into a grid with 1 row and 3 columns\n",
    "# it then focuses on the first grid square until the next subplot command\n",
    "plt.subplot(1, 3, 1) # 1 by 3 grid in 1st space\n",
    "plt.plot(x, y1)\n",
    "plt.title(\"plot 1 of 3\")\n",
    "\n",
    "plt.subplot(1, 3, 2) # 1 by 3 grid in 2nd space\n",
    "plt.plot(x, y2)\n",
    "plt.title(\"plot 2 of 3\")\n",
    "\n",
    "plt.subplot(1, 3, 3) # 1 by 3 grid in 3rd space\n",
    "plt.plot(x, y3)\n",
    "plt.title(\"plot 3 of 3\")\n",
    "\n",
    "plt.show()"
   ]
  },
  {
   "cell_type": "markdown",
   "metadata": {
    "colab_type": "text",
    "id": "oJL55essRfBn"
   },
   "source": [
    "Learn more about the subplot command here:\n",
    "https://matplotlib.org/api/_as_gen/matplotlib.pyplot.subplot.html"
   ]
  },
  {
   "cell_type": "code",
   "execution_count": null,
   "metadata": {
    "colab": {
     "base_uri": "https://localhost:8080/",
     "height": 227
    },
    "colab_type": "code",
    "executionInfo": {
     "elapsed": 2451,
     "status": "ok",
     "timestamp": 1578034489897,
     "user": {
      "displayName": "Parker Ruth",
      "photoUrl": "",
      "userId": "17141790875063962456"
     },
     "user_tz": 480
    },
    "id": "X6X0RDw9RPH9",
    "outputId": "78e6f9d3-192d-4dc6-8c0b-89eb307526fb"
   },
   "outputs": [],
   "source": [
    "# matplotlib has a variety of styles for plotting data; here are some examples\n",
    "\n",
    "plt.figure(figsize=[12,3])\n",
    "\n",
    "plt.subplot(1, 3, 1)\n",
    "plt.scatter(x_data, y_data)\n",
    "plt.title(\"scatter plot\")\n",
    "\n",
    "plt.subplot(1, 3, 2)\n",
    "plt.bar(x_data, y_data)\n",
    "plt.title(\"bar chart\")\n",
    "\n",
    "plt.subplot(1, 3, 3)\n",
    "plt.fill_between(x_data, y_data)\n",
    "plt.title(\"area plot\")\n",
    "\n",
    "plt.show()"
   ]
  },
  {
   "cell_type": "markdown",
   "metadata": {
    "colab_type": "text",
    "id": "Xldxt5piWTPw"
   },
   "source": [
    "**Python Question 1**\n",
    "\n",
    "- Make a figure with size 5 by 5\n",
    "- Add a scatter plot of the mystery data provided below\n",
    "- Add a title describing what you see in the plot"
   ]
  },
  {
   "cell_type": "code",
   "execution_count": null,
   "metadata": {
    "colab": {},
    "colab_type": "code",
    "id": "HGCy1T4VdAkC"
   },
   "outputs": [],
   "source": [
    "mystery_x = np.array([2.143, -3.0, 0.875, 1.75, -4.226, 3.0, 2.75, -2.878, -0.75, -4.6, -4.226, -0.938, -1.0, -0.333, -1.114, 1.562, -4.6, 4.427, -0.25, 2.143, -1.7, -3.743, -2.723, -1.7, 1.391, -1.246, 3.0, -0.427, -0.201, 2.336, -1.773, -1.361, 2.333, 1.965, -2.5, 1.0, -4.855, 1.75, -0.664, 0.875, -0.938, -1.631, 4.743, 1.886, -1.965, 0.277, 3.997, -0.25, -0.358, 2.524, -1.0, -1.361, -1.773, -2.723, 1.886, -2.333, -1.0, 1.246, 5.0, -2.5, 5.0, 2.336, -3.162, 2.75, -2.511, 0.427, 2.84, -0.75, -4.855, 2.878, 0.277, 1.369, -1.114, 1.562, 0.8, -4.984, 0.8, -3.0, 2.642, -0.664, -1.667, 3.464, 4.935, -2.125, 0.489, 2.84, 0.603, 1.667, 2.642, 1.139, 1.139, -4.984, -2.511, -3.743, 4.935, -0.201, 1.391, 0.333, 0.489, -1.631, 3.997, 0.603, -2.524, 4.743, -3.162, 1.369, 4.427, -0.358, 3.464, -2.125])\n",
    "mystery_y = np.array([6.017, 0.0, 4.299, 2.5, -1.172, -0.0, 3.0, -0.563, 2.5, 3.46, 4.172, 2.891, -3.399, 0.0, 1.573, 2.891, -0.46, 3.824, 3.0, -3.017, 2.717, 4.816, 3.312, 2.283, 6.303, -1.819, 0.0, -1.98, 6.496, 1.885, 6.175, 2.013, 0.0, -1.511, 5.83, 0.0, 0.303, 2.5, 4.115, 1.701, 2.109, 1.508, -0.083, 1.573, -1.511, 3.312, 4.504, 3.0, 3.61, -1.081, 0.0, 2.987, -3.175, 2.688, 4.427, 0.0, 6.399, -1.819, 1.5, -2.83, 1.5, 4.115, -2.373, 3.0, 2.118, -1.98, 5.615, 2.5, 2.697, -0.563, 2.688, 1.508, 4.427, 2.109, 2.717, 1.902, 2.283, 0.0, 3.61, 1.885, 0.0, -2.106, 0.698, 4.299, 2.118, -2.615, -3.464, 0.0, 2.39, 2.987, 2.013, 1.098, 3.882, -1.816, 2.302, -3.496, -3.303, 0.0, 3.882, 4.492, -1.504, 6.464, -1.081, 3.083, 5.373, 4.492, -0.824, 2.39, 5.106, 1.701])"
   ]
  },
  {
   "cell_type": "code",
   "execution_count": null,
   "metadata": {
    "colab": {
     "base_uri": "https://localhost:8080/",
     "height": 336
    },
    "colab_type": "code",
    "executionInfo": {
     "elapsed": 2447,
     "status": "ok",
     "timestamp": 1578034489899,
     "user": {
      "displayName": "Parker Ruth",
      "photoUrl": "",
      "userId": "17141790875063962456"
     },
     "user_tz": 480
    },
    "id": "zCIJe8z_d_MS",
    "outputId": "2fd27baa-951d-4a7d-a1e5-4652529498b4"
   },
   "outputs": [],
   "source": [
    "# YOUR CODE HERE\n",
    "\n"
   ]
  },
  {
   "cell_type": "markdown",
   "metadata": {
    "colab_type": "text",
    "id": "5VXF27iGL15l"
   },
   "source": [
    "**Python Question 2**\n",
    "\n",
    "Modify the code below to make the following changes (you may need to reference the documentation to figure out how):\n",
    "\n",
    "- Make the figure 6 inches wide and 2 inches tall.\n",
    "- Make the plot a green dashed line.\n",
    "- Set the x limits between 0 and 1.\n",
    "- Set the y limits between -1 and 1.\n",
    "- Add a title saying \"Python is great!\".\n",
    "- Label the x axis as \"time\".\n",
    "- Label the y axis as \"love of Python\".\n",
    "- Remove the grid."
   ]
  },
  {
   "cell_type": "code",
   "execution_count": null,
   "metadata": {
    "colab": {
     "base_uri": "https://localhost:8080/",
     "height": 435
    },
    "colab_type": "code",
    "executionInfo": {
     "elapsed": 3059,
     "status": "ok",
     "timestamp": 1578034490514,
     "user": {
      "displayName": "Parker Ruth",
      "photoUrl": "",
      "userId": "17141790875063962456"
     },
     "user_tz": 480
    },
    "id": "4qVJFnnRKyPR",
    "outputId": "67c7fc56-d068-42b7-923f-976ce252e579"
   },
   "outputs": [],
   "source": [
    "x = np.linspace(-5, 5, 100)\n",
    "y1 = np.sin(x)\n",
    "\n",
    "plt.plot(x, y1)\n",
    "plt.xlim([-5,4])\n",
    "plt.grid()\n",
    "plt.show()"
   ]
  },
  {
   "cell_type": "markdown",
   "metadata": {
    "colab_type": "text",
    "id": "bBLf3MZKap26"
   },
   "source": [
    "## SciPy\n",
    "\n",
    "SciPy builds on NumPy to provide tools for common scientific computing tasks. SciPy provides many useful methods, but to start we will examine just a single one: `curve_fit` allows us to fit a parameterized curve to a collection of data.\n",
    "\n",
    "The full SciPy reference is here:\n",
    "https://docs.scipy.org/doc/scipy/reference/#api-reference"
   ]
  },
  {
   "cell_type": "markdown",
   "metadata": {
    "colab_type": "text",
    "id": "Dz-llArcYT2o"
   },
   "source": [
    "The `curve_fit` function is a general purpose tool that allows us to fit any kind of function to a collection of data. The programmer writes a function with some parameters, and then `curve_fit` attempts to find the parameters that mazimize the curve's fit with the data.\n",
    "\n",
    "`curve_fit` takes three inputs:\n",
    "\n",
    "- a function to optimize (specified by the programmer)\n",
    "- the x data to fit\n",
    "- the y data to fit\n",
    "\n",
    "and it has two outputs:\n",
    "\n",
    "- a list of the parameters that best fit the data\n",
    "- the covariance matrix (a generalization of the error)\n",
    "\n",
    "For complex functions and datasets, the `curve_fit` function may perform better if you can provide it with an initial guess of the parameters to prevent it from falling into a local optimum.\n",
    "\n",
    "The full reference for this method is here:\n",
    "https://docs.scipy.org/doc/scipy/reference/generated/scipy.optimize.curve_fit.html#scipy.optimize.curve_fit"
   ]
  },
  {
   "cell_type": "code",
   "execution_count": null,
   "metadata": {
    "colab": {
     "base_uri": "https://localhost:8080/",
     "height": 266
    },
    "colab_type": "code",
    "executionInfo": {
     "elapsed": 3364,
     "status": "ok",
     "timestamp": 1578034490822,
     "user": {
      "displayName": "Parker Ruth",
      "photoUrl": "",
      "userId": "17141790875063962456"
     },
     "user_tz": 480
    },
    "id": "Hz_UZdtVu9Ma",
    "outputId": "71467b26-9b76-4421-cb70-944f82b38866"
   },
   "outputs": [],
   "source": [
    "# suppose you recorded the data below from a laboratory experiment; you measured\n",
    "# the molar concentration (y) of a chemical product over time (x) in seconds\n",
    "# (later we'll read data from files - for now, assume you already have it)\n",
    "\n",
    "x = np.array([0.0, 0.2, 0.4, 0.6, 0.8, 1.0, 1.2, 1.4, 1.6, 1.8, 2.0, 2.2, 2.4,\n",
    "              2.6, 2.8, 3.0, 3.2, 3.4, 3.6, 3.8, 4.0, 4.2, 4.4, 4.6, 4.8, 5.0,\n",
    "              5.2, 5.4, 5.6, 5.8, 6.0, 6.2, 6.4, 6.6, 6.8, 7.0, 7.2, 7.4, 7.6,\n",
    "              7.8, 8.0, 8.2, 8.4, 8.6, 8.8, 9.0, 9.2, 9.4, 9.6, 9.8, 10.0])\n",
    "y = np.array([0.002, 0.023, 0.026, 0.017, 0.004, 0.029, 0.041, 0.022, 0.011,\n",
    "              0.038, 0.065, 0.118, 0.078, 0.108, 0.164, 0.187, 0.18, 0.212,\n",
    "              0.262, 0.286, 0.337, 0.35, 0.386, 0.4, 0.457, 0.461, 0.521, 0.542,\n",
    "              0.52, 0.55, 0.598, 0.611, 0.607, 0.621, 0.586, 0.604, 0.634,\n",
    "              0.623, 0.615, 0.646, 0.642, 0.648, 0.655, 0.664, 0.655, 0.648,\n",
    "              0.639, 0.633, 0.652, 0.656, 0.656])\n",
    "\n",
    "plt.scatter(x, y)\n",
    "plt.show()"
   ]
  },
  {
   "cell_type": "code",
   "execution_count": null,
   "metadata": {
    "colab": {
     "base_uri": "https://localhost:8080/",
     "height": 298
    },
    "colab_type": "code",
    "executionInfo": {
     "elapsed": 3362,
     "status": "ok",
     "timestamp": 1578034490823,
     "user": {
      "displayName": "Parker Ruth",
      "photoUrl": "",
      "userId": "17141790875063962456"
     },
     "user_tz": 480
    },
    "id": "K-DDPQk3HFHh",
    "outputId": "4f40b816-acff-45b4-d80c-d17dfd8701de"
   },
   "outputs": [],
   "source": [
    "# we can use scipy to fit curves to data\n",
    "from scipy.optimize import curve_fit\n",
    "# this syntax allows us to import a particular function\n",
    "# if we instead just said import scipy, we would have to type\n",
    "# scipy.optimize.curve_fit every time instead of just curve_fit\n",
    "\n",
    "# here we specify the type of function we want to fit\n",
    "def linear(x, a, b):\n",
    "    return a*x + b\n",
    "\n",
    "params, cov = curve_fit(linear, x, y) # compute best fit params for data\n",
    "print(\"fit parameters:\", params)\n",
    "linear_fit = linear(x, params[0], params[1]) # stick params back into function\n",
    "\n",
    "plt.scatter(x, y, s=5, color='black')\n",
    "plt.plot(x, linear_fit, lw=1, color='red')\n",
    "plt.title(\"linear fit\")\n",
    "plt.show()"
   ]
  },
  {
   "cell_type": "code",
   "execution_count": null,
   "metadata": {
    "colab": {
     "base_uri": "https://localhost:8080/",
     "height": 281
    },
    "colab_type": "code",
    "executionInfo": {
     "elapsed": 3528,
     "status": "ok",
     "timestamp": 1578034490992,
     "user": {
      "displayName": "Parker Ruth",
      "photoUrl": "",
      "userId": "17141790875063962456"
     },
     "user_tz": 480
    },
    "id": "PmzAZGmdLGZK",
    "outputId": "310daaea-673c-4429-e62e-6cd26bf64654"
   },
   "outputs": [],
   "source": [
    "# curve_fit can work with any kind of function we define\n",
    "\n",
    "# it's really not important that you understand how this function works\n",
    "# the point is that it describes a type of function that we can fit to our data\n",
    "def clipping(x, offset, scale, delay, slope):\n",
    "    y = (x - delay) * slope\n",
    "    y = np.clip(y, 0, 1)\n",
    "    return y * scale + offset\n",
    "\n",
    "params, cov = curve_fit(clipping, x, y)\n",
    "clip_fit = clipping(x, *params)\n",
    "# *params is shorthand to unpack all the parameters: params[0], params[1], ...\n",
    "\n",
    "plt.scatter(x, y, s=5, color='black')\n",
    "plt.plot(x, clip_fit, lw=1, color='red')\n",
    "plt.title(\"linear fit with clipping\")\n",
    "plt.show()"
   ]
  },
  {
   "cell_type": "markdown",
   "metadata": {
    "colab_type": "text",
    "id": "ZQRnVzdYQ6Dr"
   },
   "source": [
    "**Python Question 3**\n",
    "\n",
    "Fit two more functions to this same set of data: a cubic function and a logistic function.\n",
    "\n",
    "A cubic function is a third order polynomial:\n",
    "$$ f(x) = ax^3 + bx^2 + cx + d $$\n",
    "\n",
    "A logistic curve has a sigmoid shape:\n",
    "$$ f(x) = a \\cdot \\tanh(bx - c) + d $$\n",
    "\n",
    "In both functions, $a$, $b$, $c$, and $d$ are all parameters.\n",
    "\n",
    "- Plot the fit curves side by side in adjacent subplots.\n",
    "- Add titles to each subplot.\n",
    "- Label the x axes as \"time (s)\".\n",
    "- Label the y axes as \"concentration [M]\".\n",
    "- Add legends in the upper left corners.\n",
    "\n",
    "Which one do you think best describes this reaction data?"
   ]
  },
  {
   "cell_type": "code",
   "execution_count": null,
   "metadata": {
    "colab": {
     "base_uri": "https://localhost:8080/",
     "height": 241
    },
    "colab_type": "code",
    "executionInfo": {
     "elapsed": 4021,
     "status": "ok",
     "timestamp": 1578034491488,
     "user": {
      "displayName": "Parker Ruth",
      "photoUrl": "",
      "userId": "17141790875063962456"
     },
     "user_tz": 480
    },
    "id": "l0W27dnCHygJ",
    "outputId": "3208f9f5-67ce-4899-d8f2-a1dd406be2e5"
   },
   "outputs": [],
   "source": [
    "# YOUR CODE HERE\n",
    "\n"
   ]
  },
  {
   "cell_type": "markdown",
   "metadata": {},
   "source": [
    "**Python Question 4**\n",
    "\n",
    "Below are some new data. Fill in the code below to fit the data with a linear curve fit and at least one other function that you think is a better fit."
   ]
  },
  {
   "cell_type": "code",
   "execution_count": null,
   "metadata": {},
   "outputs": [],
   "source": [
    "tofitxvals = np.array([0,1,2,3,4,5,6])\n",
    "tofityvals = np.array([0,1,4,9,16,25,36])\n",
    "plt.title('My Fit Data')\n",
    "plt.xlabel('Study Time')\n",
    "plt.ylabel('My Knowledge')\n",
    "\n",
    "def linear(x, a, b):\n",
    "    return a*x + b\n",
    "\n",
    "# DEFINE ANOTHER FUNCTION OF YOUR CHOICE\n",
    "\n",
    "params, cov = curve_fit(linear, tofitxvals, tofityvals)\n",
    "print(\"linear fit parameters:\", params)\n",
    "linear_fit = linear(tofitxvals, params[0], params[1])\n",
    "\n",
    "# COMPUTE ANOTHER BEST FIT\n",
    "\n",
    "plt.scatter(tofitxvals, tofityvals, s=10, color='black', label='raw data')\n",
    "plt.plot(tofitxvals, linear_fit, lw=1, color='red', label='linear fit')\n",
    "\n",
    "# PLOT THE OTHER FIT CURVE\n",
    "\n",
    "plt.legend()\n",
    "plt.show()"
   ]
  }
 ],
 "metadata": {
  "colab": {
   "collapsed_sections": [],
   "name": "hw1-scientific-computing.ipynb",
   "provenance": []
  },
  "kernelspec": {
   "display_name": "Python 3",
   "language": "python",
   "name": "python3"
  },
  "language_info": {
   "codemirror_mode": {
    "name": "ipython",
    "version": 3
   },
   "file_extension": ".py",
   "mimetype": "text/x-python",
   "name": "python",
   "nbconvert_exporter": "python",
   "pygments_lexer": "ipython3",
   "version": "3.7.6"
  }
 },
 "nbformat": 4,
 "nbformat_minor": 4
}
