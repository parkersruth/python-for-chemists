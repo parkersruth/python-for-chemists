{
 "cells": [
  {
   "cell_type": "markdown",
   "metadata": {},
   "source": [
    "# Meteorite Dating\n",
    "\n",
    "The article below describes a method for calculating a correction to the age of a meteorite.\n",
    "\n",
    "> 238U/235U Variations in Meteorites: Extant 247Cm and Implications for Pb-Pb Dating\n",
    "\n",
    "Use the `fsolve` function to find the corrected meteorite age assuming the ratio of $^{238}\\text{U}/^{235}\\text{U}$ is actually $137.40$."
   ]
  },
  {
   "cell_type": "code",
   "execution_count": null,
   "metadata": {},
   "outputs": [],
   "source": [
    "# YOUR CODE HERE\n",
    "\n"
   ]
  }
 ],
 "metadata": {
  "kernelspec": {
   "display_name": "Python 3",
   "language": "python",
   "name": "python3"
  },
  "language_info": {
   "codemirror_mode": {
    "name": "ipython",
    "version": 3
   },
   "file_extension": ".py",
   "mimetype": "text/x-python",
   "name": "python",
   "nbconvert_exporter": "python",
   "pygments_lexer": "ipython3",
   "version": "3.7.6"
  }
 },
 "nbformat": 4,
 "nbformat_minor": 4
}
