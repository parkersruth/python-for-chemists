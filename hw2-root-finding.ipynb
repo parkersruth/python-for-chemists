{
 "cells": [
  {
   "cell_type": "markdown",
   "metadata": {
    "colab_type": "text",
    "id": "qNlxcC85aBiI"
   },
   "source": [
    "# Root Finding with Python\n",
    "\n",
    "This tutorial introduces methods for using Python to numerically solve equations in Python. We will start with simple equations like quadratic or cubic equations, since you can check the solutions to these by hand. Using Python becomes especially useful for equations that are difficult or impossible to solve by analytically."
   ]
  },
  {
   "cell_type": "markdown",
   "metadata": {},
   "source": [
    "## I. Finding roots with fsolve()\n",
    "\n",
    "There are a few steps to finding roots:\n",
    "\n",
    "1. Define the function you want to find the roots of.\n",
    "2. (Optionally) plot the function to visually inspect the roots.\n",
    "3. Use a numerical optimizer/minimizer/root finder to compute the roots.\n",
    "4. Check that your answer makes sense.\n"
   ]
  },
  {
   "cell_type": "markdown",
   "metadata": {},
   "source": [
    "### Step 1 - Define the function\n",
    "The first thing we need to do is define a function that computes our equation. We'll start with the quadratic equation. Here, we only consider real roots. Below we define the function `quadratic(x)`. In this example, we have defined the values `a`, `b`, and `c` inside the function. For more modular and re-usable code, you might consider separating them out, but this form is a bit easier to read."
   ]
  },
  {
   "cell_type": "code",
   "execution_count": null,
   "metadata": {
    "colab": {},
    "colab_type": "code",
    "id": "pJFmY6WDaBiL",
    "outputId": "6fa14322-2c8a-4805-96fe-531c7a1f5bb2"
   },
   "outputs": [],
   "source": [
    "import numpy as np\n",
    "from scipy.optimize import fsolve\n",
    "\n",
    "# this is the function we want to find the roots of\n",
    "# f(x) = ax^2 + bx + c\n",
    "def quadratic(x): \n",
    "    a=2\n",
    "    b=1\n",
    "    c=-5\n",
    "    return a*x**2 + b*x + c\n",
    "\n",
    "quadratic(4) # use this to check the output is expected"
   ]
  },
  {
   "cell_type": "markdown",
   "metadata": {
    "colab_type": "text",
    "id": "hssb3px9aBiR"
   },
   "source": [
    "### Step 2 -  Plot the function\n",
    "\n",
    "Let's now plot the function so we can visually inspect the roots. You should be able to estimate them by eye."
   ]
  },
  {
   "cell_type": "code",
   "execution_count": null,
   "metadata": {
    "colab": {},
    "colab_type": "code",
    "id": "dTLXKR1saBiS",
    "outputId": "d4e76e04-2faf-4656-d41d-90bc0e32a348"
   },
   "outputs": [],
   "source": [
    "import matplotlib.pyplot as plt\n",
    "\n",
    "xvals = np.arange(-3,3,.1)            # creates an array of x values from -3, to +3 spaced 0.1 apart\n",
    "plt.plot(xvals,quadratic(xvals), color='red') # plots the quadratic function vs. xvals\n",
    "\n",
    "yzero = np.zeros_like(xvals) # creates an array of all zeros the same size as xvals\n",
    "plt.plot(xvals,yzero, color='blue')   # plots the y=0 line\n",
    "\n",
    "plt.show()"
   ]
  },
  {
   "cell_type": "markdown",
   "metadata": {
    "colab_type": "text",
    "id": "ibiSXyaXaBiV"
   },
   "source": [
    "### Step 3 - Numerically compute the roots\n",
    "\n",
    "To compute the roots numerically, we need to use some kind of numeric optimizer/minimizer/root finder. Here we'll use the function `fsolve` from the SciPy library. Like most commands, it has [lots of options](https://docs.scipy.org/doc/scipy/reference/generated/scipy.optimize.fsolve.html), but we'll just focus on its basic use here.\n",
    "\n",
    "The `fsolve` function will try to find a place where the function is zero by starting with an initial guess and repeatedly modifying it until the function outputs zero (or something very close to zero). The syntax is simple: `fsolve(function, guess)`. If there are multiple roots to the equation, the root method will find the one closest to your initial guess.\n",
    "\n",
    "`fsolve` returns the result to us as an array. This is because it is designed to work for functions with any number of inputs. For this example, the array only contains one value because our function `quadratic(x)` has only a single input."
   ]
  },
  {
   "cell_type": "code",
   "execution_count": null,
   "metadata": {
    "colab": {},
    "colab_type": "code",
    "id": "Tfag5LyxaBiW",
    "outputId": "fd472d35-89d6-4b03-b7b1-6d368bffd8ad"
   },
   "outputs": [],
   "source": [
    "fsolve(quadratic,-2)"
   ]
  },
  {
   "cell_type": "markdown",
   "metadata": {},
   "source": [
    "### Step 4: Check your answer\n",
    "\n",
    "Checking against the plot above, we can see the answer makes sense. Starting with our initial guess, the `fsolve` function found the root closest to it. If you'd like, you can check the answer with the quadratic formula. You can also try changing the constants a, b, and c and try running the solver again."
   ]
  },
  {
   "cell_type": "markdown",
   "metadata": {
    "colab_type": "text",
    "id": "ORA9mCrwaBiZ"
   },
   "source": [
    "**Python Question 1**\n",
    "\n",
    "Adapt the code above, and find the *second* root for this quadratic equation."
   ]
  },
  {
   "cell_type": "code",
   "execution_count": null,
   "metadata": {},
   "outputs": [],
   "source": [
    "# YOUR CODE HERE\n",
    "\n"
   ]
  },
  {
   "cell_type": "markdown",
   "metadata": {
    "colab_type": "text",
    "id": "gRJKHWoSaBiZ"
   },
   "source": [
    "## II. Finding roots with roots()"
   ]
  },
  {
   "cell_type": "markdown",
   "metadata": {
    "colab_type": "text",
    "id": "z5HSrMU9aBia"
   },
   "source": [
    "An alternative to using `fsolve` is the function `roots` from the NumPy library. This function is very convenient for finding roots of polynomials, but unlike `fsolve` it is not generally applicable for finding roots of any function specified. A major part of learning how to program in Python is knowing what tool to pick for the problem at hand.\n",
    "\n",
    "The `roots` function takes a single input, which is a list of coefficients. You call it like this: `roots([a, b, c, ...])` where the $a$, $b$, c, ... are the coefficients of the polynomial in standard form $ax^n + bx^{n-1} + cx^{n-3} + \\ldots $. For example, you could find the roots of the equation\n",
    "$$ f(x) = 3x^2 - x + 2 $$\n",
    "by running the command\n",
    "```python\n",
    "np.roots([3, -1, 2])\n",
    "```\n",
    "In this example, $a=3$, $b=-1$, and $c=2$, but you can use this function for polynomials of any order."
   ]
  },
  {
   "cell_type": "markdown",
   "metadata": {},
   "source": [
    "**Python Question 2**\n",
    "\n",
    "Use `roots` to find the roots of the same quadratic equation you solved with `fsolve` above. You should either print out or write down the command, along with its output. Note that `roots` is part of the NumPy library, so you need to call `import numpy as np` somewhere before using it. In this case, we already imported it in one of the cells above, so we can use it here."
   ]
  },
  {
   "cell_type": "code",
   "execution_count": null,
   "metadata": {
    "colab": {},
    "colab_type": "code",
    "id": "lNnxl6KXaBib",
    "outputId": "25aa20e1-d487-43c5-d5f5-61644e3cf06d"
   },
   "outputs": [],
   "source": [
    "# YOUR CODE HERE\n"
   ]
  }
 ],
 "metadata": {
  "colab": {
   "name": "hw02-root-finding.ipynb",
   "provenance": []
  },
  "kernelspec": {
   "display_name": "Python 3",
   "language": "python",
   "name": "python3"
  },
  "language_info": {
   "codemirror_mode": {
    "name": "ipython",
    "version": 3
   },
   "file_extension": ".py",
   "mimetype": "text/x-python",
   "name": "python",
   "nbconvert_exporter": "python",
   "pygments_lexer": "ipython3",
   "version": "3.7.6"
  }
 },
 "nbformat": 4,
 "nbformat_minor": 4
}
