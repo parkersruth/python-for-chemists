{
 "cells": [
  {
   "cell_type": "markdown",
   "metadata": {},
   "source": [
    "# Reading Data Into Python\n",
    "\n",
    "So far, we have learned powerful tools from NumPy, SciPy, and Matplotlib for manipulating, analyzing, and visualizing data. But where does the data come from? Although we can type arrays of data into Python by hand, this is tedious and error-prone, especially for large datasets.\n",
    "\n",
    "In this worksheet, we will see how to use the Pandas library to read data into Python from files (and write output to files as well). Although Pandas is full of powerful tools for managing complex datasets, we will priarily by using it to read and write data to and from files. You can read the full Pandas documentation [here](https://pandas.pydata.org/pandas-docs/stable/)."
   ]
  },
  {
   "cell_type": "markdown",
   "metadata": {},
   "source": [
    "## I. Introduction to DataFrames"
   ]
  },
  {
   "cell_type": "code",
   "execution_count": null,
   "metadata": {},
   "outputs": [],
   "source": [
    "# It's usually a good idea to import all the libraries you need at the top\n",
    "# Make sure to run this cell so that you can use these in the other cells\n",
    "import numpy as np\n",
    "import matplotlib.pyplot as plt\n",
    "import pandas as pd"
   ]
  },
  {
   "cell_type": "markdown",
   "metadata": {},
   "source": [
    "Before reading from a file, let's familiarize ourselves with how Pandas organizes our data. When we read in data, it will be stored in something called a DataFrame. You can think of a DataFrame like a spreadsheet: it's just a collection of rows and columns of data (the rows and columns can have names).\n",
    "\n",
    "Note: It's not particularly important that you know how to do manual DataFrame creation; we're just doing this for practice working with DataFrames. You will typically only use DataFrames when reading from files."
   ]
  },
  {
   "cell_type": "code",
   "execution_count": null,
   "metadata": {},
   "outputs": [],
   "source": [
    "# To start, let's try making a DataFrame from scratch\n",
    "\n",
    "df = pd.DataFrame(data=[[1,2], [3,4], [5,6], [7,8]], columns=['x', 'y'])\n",
    "\n",
    "print(df)"
   ]
  },
  {
   "cell_type": "markdown",
   "metadata": {},
   "source": [
    "Here we have manually created a DataFrame with the given data. We specified the names \"x\" and \"y\" for the columns. Notice that, like an Excel spreadsheet, the rows are numbered. Now let's look at how to get data out of the DataFrame."
   ]
  },
  {
   "cell_type": "code",
   "execution_count": null,
   "metadata": {},
   "outputs": [],
   "source": [
    "print(df['x']) # Extracting a single column from the DataFrame"
   ]
  },
  {
   "cell_type": "markdown",
   "metadata": {},
   "source": [
    "We can get a column by indexing the DataFrame object with the column's name. Now we have a list of values; they are still numbered starting at zero. If you really want just the data without the numbered rows, you can use the `.values` attribute like this:"
   ]
  },
  {
   "cell_type": "code",
   "execution_count": null,
   "metadata": {},
   "outputs": [],
   "source": [
    "print(df['x'].values) # Extracting the values from a column of the DataFrame"
   ]
  },
  {
   "cell_type": "markdown",
   "metadata": {},
   "source": [
    "This gives us a NumPy array, just like what we've used before. However, it is often not necessary to explicitly extract the values like this because the entire suite of scientific computing tools are closely integrated. Here's an exmple:"
   ]
  },
  {
   "cell_type": "code",
   "execution_count": null,
   "metadata": {
    "scrolled": true
   },
   "outputs": [],
   "source": [
    "# suppose we have the following datasets\n",
    "\n",
    "dataset_1 = pd.DataFrame(data=[[1,2], [2,4], [3,6], [4,8], [5,10]], columns=['x', 'y'])\n",
    "dataset_2 = pd.DataFrame(data=[[1,1], [2,4], [3,9], [4,16], [5,25], [6,36]], columns=['x', 'y'])"
   ]
  },
  {
   "cell_type": "code",
   "execution_count": null,
   "metadata": {},
   "outputs": [],
   "source": [
    "# we can plot the x and y data like this:\n",
    "\n",
    "plt.plot(dataset_1['x'], dataset_1['y'], color='red') # plot dataset 1\n",
    "\n",
    "plt.title('My Data Plot', fontsize=18)\n",
    "plt.xlabel('x values', fontsize=18)\n",
    "plt.ylabel('y values', fontsize=18)\n",
    "plt.xticks(fontsize=14)\n",
    "plt.yticks(fontsize=14)\n",
    "plt.legend(['Data Set 1'])\n",
    "plt.axis([0, 6, 0, 40])\n",
    "plt.grid(True) # rememeber that True needs to be capitalized!\n",
    "\n",
    "plt.show()"
   ]
  },
  {
   "cell_type": "markdown",
   "metadata": {},
   "source": [
    "**Python Question 1**\n",
    "\n",
    "Copy the code in the previous cell and modify it to plot both dataset 1 and dataset 2 on the same plot. Make dataset 2 be a blue line and make sure the legend includes labels for both datasets. Include both the code and the resulting plot in your homework."
   ]
  },
  {
   "cell_type": "code",
   "execution_count": null,
   "metadata": {},
   "outputs": [],
   "source": [
    "# YOUR CODE HERE\n",
    "\n"
   ]
  },
  {
   "cell_type": "markdown",
   "metadata": {},
   "source": [
    "## II. Reading Data from Files\n",
    "\n",
    "A common format for data stored in files is as comma-separated values (CSV). A .csv file is just a text file with data separated by commas. Pandas provides a convenient `read_csv` function to read data from a .csv file into a DataFrame object.\n",
    "\n",
    "The code below opens the file called \"test_data.csv\" which you should have saved in the same directory as this jupyter notebook. You can open the file using Excel or any text editor to see for yourself what's inside.\n",
    "\n",
    "For this part of the assignment, import the test_data.csv file. And make a plot of concentration vs. time. Print out the (correctly labeled) plot, for your homework."
   ]
  },
  {
   "cell_type": "code",
   "execution_count": null,
   "metadata": {},
   "outputs": [],
   "source": [
    "my_data = pd.read_csv(\"test_data.csv\")  # read data from the file\n",
    "\n",
    "print(my_data)"
   ]
  },
  {
   "cell_type": "markdown",
   "metadata": {},
   "source": [
    "That's a lot of data! It would have been very painful to try to input that all by hand!"
   ]
  },
  {
   "cell_type": "markdown",
   "metadata": {},
   "source": [
    "**Python Question 2**\n",
    "\n",
    "Make a plot of concentration vs. time. Don't forget your title and axis labels!"
   ]
  },
  {
   "cell_type": "code",
   "execution_count": null,
   "metadata": {},
   "outputs": [],
   "source": [
    "# YOUR CODE HERE\n"
   ]
  },
  {
   "cell_type": "markdown",
   "metadata": {},
   "source": [
    "## Writing Data to Files\n",
    "\n",
    "After reading your data, you may manipulate it in Python and then wish to store your results in a file. You can do this with the Pandas `to_csv` function."
   ]
  },
  {
   "cell_type": "code",
   "execution_count": null,
   "metadata": {},
   "outputs": [],
   "source": [
    "my_data['z'] = my_data['concentration'] ** 2  # add a new column z which is the square of the concetration\n",
    "print(my_data)\n",
    "my_data.to_csv('output.csv')\n",
    "\n",
    "# after running this cell, check that the file has been created"
   ]
  },
  {
   "cell_type": "markdown",
   "metadata": {},
   "source": [
    "It's also possible to read and write data with Microsoft Excel formats as well. Pandas has `read_excel` and `to_excel` functions that work in the same way as the csv functions shown above."
   ]
  }
 ],
 "metadata": {
  "kernelspec": {
   "display_name": "Python 3",
   "language": "python",
   "name": "python3"
  },
  "language_info": {
   "codemirror_mode": {
    "name": "ipython",
    "version": 3
   },
   "file_extension": ".py",
   "mimetype": "text/x-python",
   "name": "python",
   "nbconvert_exporter": "python",
   "pygments_lexer": "ipython3",
   "version": "3.7.6"
  }
 },
 "nbformat": 4,
 "nbformat_minor": 4
}
